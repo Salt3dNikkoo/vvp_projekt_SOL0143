{
 "cells": [
  {
   "cell_type": "markdown",
   "id": "49621132",
   "metadata": {},
   "source": [
    "# Ukázky použití knihovny `fractal_lib`\n",
    "\n",
    "Tento notebook demonstruje použití knihovny `fractal_lib` pro generování Mandelbrotovy a Juliovy množiny, včetně interaktivního zobrazení."
   ]
  },
  {
   "cell_type": "markdown",
   "id": "b31b450e",
   "metadata": {},
   "source": [
    "### 0. Importace důležitých knihoven"
   ]
  },
  {
   "cell_type": "code",
   "execution_count": null,
   "id": "851df272",
   "metadata": {},
   "outputs": [],
   "source": [
    "# Import knihovny a závislostí\n",
    "import numpy as np\n",
    "import matplotlib\n",
    "import matplotlib.pyplot as plt\n",
    "from fractal_lib.generation import generate_julia\n",
    "from fractal_lib.generation import generate_mandelbrot\n",
    "from fractal_lib.visualization import interactive_fractal_viewer\n",
    "matplotlib.use('TkAgg')  # Použití Tkinter backendu pro interaktivní GUI"
   ]
  },
  {
   "cell_type": "markdown",
   "id": "c3a64e81",
   "metadata": {},
   "source": [
    "### 1. Mandelbrotova množina"
   ]
  },
  {
   "cell_type": "code",
   "execution_count": null,
   "id": "2fec4fe6",
   "metadata": {},
   "outputs": [],
   "source": [
    "image = generate_mandelbrot(x_min=-2, x_max=1, y_min=-1.5, y_max=1.5, width=800, height=800, max_iter=200)\n",
    "plt.figure(figsize=(8, 8))\n",
    "plt.imshow(image, extent=(-2, 1, -1.5, 1.5), cmap='hot')\n",
    "plt.title('Mandelbrotova množina')\n",
    "plt.xlabel('Re')\n",
    "plt.ylabel('Im')\n",
    "plt.colorbar(label='Počet iterací')\n",
    "plt.show()"
   ]
  },
  {
   "cell_type": "markdown",
   "id": "758ee6cd",
   "metadata": {},
   "source": [
    "### 2. Juliova množina pro $c = -0.8 + 0.156i$"
   ]
  },
  {
   "cell_type": "code",
   "execution_count": null,
   "id": "7c840e1d",
   "metadata": {},
   "outputs": [],
   "source": [
    "c = complex(-0.8, 0.156)\n",
    "image = generate_julia(x_min=-1.5, x_max=1.5, y_min=-1.5, y_max=1.5, width=800, height=800, c=c, max_iter=300)\n",
    "plt.figure(figsize=(8, 8))\n",
    "plt.imshow(image, extent=(-1.5, 1.5, -1.5, 1.5), cmap='inferno')\n",
    "plt.title(f'Juliova množina pro c = {c}')\n",
    "plt.xlabel('Re')\n",
    "plt.ylabel('Im')\n",
    "plt.colorbar(label='Počet iterací')\n",
    "plt.show()"
   ]
  },
  {
   "cell_type": "markdown",
   "id": "3dd66133",
   "metadata": {},
   "source": [
    "### 3. Interaktivní prohlížeč fraktálů"
   ]
  },
  {
   "cell_type": "code",
   "execution_count": null,
   "id": "7432788d",
   "metadata": {},
   "outputs": [],
   "source": [
    "interactive_fractal_viewer()"
   ]
  }
 ],
 "metadata": {
  "language_info": {
   "name": "python"
  }
 },
 "nbformat": 4,
 "nbformat_minor": 5
}
