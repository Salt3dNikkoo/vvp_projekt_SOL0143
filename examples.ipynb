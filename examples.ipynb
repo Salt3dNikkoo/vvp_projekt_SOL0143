{
  "cells": [
    {
      "cell_type": "markdown",
      "metadata": {},
      "source": [
        "# Ukázky použití knihovny `fractal_lib`\n",
        "Tento notebook ukazuje příklady generování a vykreslování Mandelbrotovy a Juliovy množiny pomocí knihovny `fractal_lib`."
      ]
    },
    {
      "cell_type": "code",
      "execution_count": 3,
      "metadata": {},
      "outputs": [
        {
          "ename": "ModuleNotFoundError",
          "evalue": "No module named 'matplotlib'",
          "output_type": "error",
          "traceback": [
            "\u001b[31m---------------------------------------------------------------------------\u001b[39m",
            "\u001b[31mModuleNotFoundError\u001b[39m                       Traceback (most recent call last)",
            "\u001b[36mCell\u001b[39m\u001b[36m \u001b[39m\u001b[32mIn[3]\u001b[39m\u001b[32m, line 1\u001b[39m\n\u001b[32m----> \u001b[39m\u001b[32m1\u001b[39m \u001b[38;5;28;01mimport\u001b[39;00m\u001b[38;5;250m \u001b[39m\u001b[34;01mmatplotlib\u001b[39;00m\u001b[34;01m.\u001b[39;00m\u001b[34;01mpyplot\u001b[39;00m\u001b[38;5;250m \u001b[39m\u001b[38;5;28;01mas\u001b[39;00m\u001b[38;5;250m \u001b[39m\u001b[34;01mplt\u001b[39;00m\n\u001b[32m      2\u001b[39m \u001b[38;5;28;01mfrom\u001b[39;00m\u001b[38;5;250m \u001b[39m\u001b[34;01mfractal_lib\u001b[39;00m\u001b[38;5;250m \u001b[39m\u001b[38;5;28;01mimport\u001b[39;00m generate_mandelbrot, generate_julia\n",
            "\u001b[31mModuleNotFoundError\u001b[39m: No module named 'matplotlib'"
          ]
        }
      ],
      "source": [
        "import matplotlib.pyplot as plt\n",
        "from fractal_lib import generate_mandelbrot, generate_julia"
      ]
    },
    {
      "cell_type": "code",
      "execution_count": null,
      "metadata": {},
      "outputs": [],
      "source": [
        "x_min, x_max = -2.0, 1.0\n",
        "y_min, y_max = -1.5, 1.5\n",
        "width, height = 600, 400\n",
        "max_iter = 200"
      ]
    },
    {
      "cell_type": "code",
      "execution_count": null,
      "metadata": {},
      "outputs": [],
      "source": [
        "data = generate_mandelbrot(x_min, x_max, y_min, y_max, width, height, max_iter)\n",
        "\n",
        "plt.figure(figsize=(10, 6))\n",
        "plt.imshow(data, extent=[x_min, x_max, y_min, y_max], cmap='inferno')\n",
        "plt.title(\"Mandelbrotova množina\")\n",
        "plt.colorbar(label=\"Počet iterací\")\n",
        "plt.show()"
      ]
    },
    {
      "cell_type": "code",
      "execution_count": null,
      "metadata": {},
      "outputs": [],
      "source": [
        "c = complex(-0.4, 0.6)\n",
        "julia_data = generate_julia(x_min, x_max, y_min, y_max, width, height, c, max_iter)\n",
        "\n",
        "plt.figure(figsize=(10, 6))\n",
        "plt.imshow(julia_data, extent=[x_min, x_max, y_min, y_max], cmap='plasma')\n",
        "plt.title(f\"Juliova množina pro c = {c}\")\n",
        "plt.colorbar(label=\"Počet iterací\")\n",
        "plt.show()"
      ]
    },
    {
      "cell_type": "code",
      "execution_count": null,
      "id": "edd72866",
      "metadata": {},
      "outputs": [],
      "source": [
        "from fractal_lib.visualization import interactive_fractal_viewer\n",
        "\n",
        "interactive_fractal_viewer()\n"
      ]
    }
  ],
  "metadata": {
    "kernelspec": {
      "display_name": "Python 3",
      "language": "python",
      "name": "python3"
    },
    "language_info": {
      "codemirror_mode": {
        "name": "ipython",
        "version": 3
      },
      "file_extension": ".py",
      "mimetype": "text/x-python",
      "name": "python",
      "nbconvert_exporter": "python",
      "pygments_lexer": "ipython3",
      "version": "3.11.9"
    }
  },
  "nbformat": 4,
  "nbformat_minor": 5
}
